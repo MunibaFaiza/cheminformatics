{
 "cells": [
  {
   "cell_type": "markdown",
   "id": "e2591d51",
   "metadata": {},
   "source": [
    "# Creating a boxplot for docking scores"
   ]
  },
  {
   "cell_type": "code",
   "execution_count": 1,
   "id": "7c099db0",
   "metadata": {},
   "outputs": [],
   "source": [
    "import pandas as pd\n",
    "import matplotlib\n",
    "import matplotlib.pyplot as plt\n",
    "%matplotlib inline\n",
    "import seaborn as sns"
   ]
  },
  {
   "cell_type": "code",
   "execution_count": 2,
   "id": "b7a16c04",
   "metadata": {},
   "outputs": [
    {
     "data": {
      "text/html": [
       "<div>\n",
       "<style scoped>\n",
       "    .dataframe tbody tr th:only-of-type {\n",
       "        vertical-align: middle;\n",
       "    }\n",
       "\n",
       "    .dataframe tbody tr th {\n",
       "        vertical-align: top;\n",
       "    }\n",
       "\n",
       "    .dataframe thead th {\n",
       "        text-align: right;\n",
       "    }\n",
       "</style>\n",
       "<table border=\"1\" class=\"dataframe\">\n",
       "  <thead>\n",
       "    <tr style=\"text-align: right;\">\n",
       "      <th></th>\n",
       "      <th>Complex</th>\n",
       "      <th>Docking Score</th>\n",
       "      <th>Ligand type</th>\n",
       "    </tr>\n",
       "  </thead>\n",
       "  <tbody>\n",
       "    <tr>\n",
       "      <th>0</th>\n",
       "      <td>A</td>\n",
       "      <td>-13.8</td>\n",
       "      <td>Secosteroid</td>\n",
       "    </tr>\n",
       "    <tr>\n",
       "      <th>1</th>\n",
       "      <td>B</td>\n",
       "      <td>-13.1</td>\n",
       "      <td>Secosteroid</td>\n",
       "    </tr>\n",
       "    <tr>\n",
       "      <th>2</th>\n",
       "      <td>C</td>\n",
       "      <td>-13.1</td>\n",
       "      <td>Secosteroid</td>\n",
       "    </tr>\n",
       "    <tr>\n",
       "      <th>3</th>\n",
       "      <td>D</td>\n",
       "      <td>-13.3</td>\n",
       "      <td>Secosteroid</td>\n",
       "    </tr>\n",
       "    <tr>\n",
       "      <th>4</th>\n",
       "      <td>E</td>\n",
       "      <td>-14.4</td>\n",
       "      <td>Secosteroid</td>\n",
       "    </tr>\n",
       "  </tbody>\n",
       "</table>\n",
       "</div>"
      ],
      "text/plain": [
       "  Complex  Docking Score  Ligand type\n",
       "0       A          -13.8  Secosteroid\n",
       "1       B          -13.1  Secosteroid\n",
       "2       C          -13.1  Secosteroid\n",
       "3       D          -13.3  Secosteroid\n",
       "4       E          -14.4  Secosteroid"
      ]
     },
     "execution_count": 2,
     "metadata": {},
     "output_type": "execute_result"
    }
   ],
   "source": [
    "df = pd.read_csv('ligand-docking-score.csv')\n",
    "df.head()"
   ]
  },
  {
   "cell_type": "code",
   "execution_count": 3,
   "id": "8674d240",
   "metadata": {},
   "outputs": [],
   "source": [
    "names = df['Complex']\n",
    "ds = df['Docking Score']\n",
    "lig_type = df['Ligand type']"
   ]
  },
  {
   "cell_type": "code",
   "execution_count": 4,
   "id": "b847d6cc",
   "metadata": {},
   "outputs": [
    {
     "data": {
      "text/plain": [
       "0     A\n",
       "1     B\n",
       "2     C\n",
       "3     D\n",
       "4     E\n",
       "5     F\n",
       "6     G\n",
       "7     H\n",
       "8     I\n",
       "9     J\n",
       "10    K\n",
       "11    L\n",
       "12    M\n",
       "13    N\n",
       "14    O\n",
       "15    P\n",
       "16    Q\n",
       "17    R\n",
       "18    S\n",
       "19    T\n",
       "20    U\n",
       "21    V\n",
       "22    W\n",
       "23    X\n",
       "24    Y\n",
       "25    Z\n",
       "Name: Complex, dtype: object"
      ]
     },
     "execution_count": 4,
     "metadata": {},
     "output_type": "execute_result"
    }
   ],
   "source": [
    "names"
   ]
  },
  {
   "cell_type": "code",
   "execution_count": 5,
   "id": "4c00a7f5",
   "metadata": {},
   "outputs": [
    {
     "data": {
      "text/plain": [
       "0    -13.8\n",
       "1    -13.1\n",
       "2    -13.1\n",
       "3    -13.3\n",
       "4    -14.4\n",
       "5    -14.2\n",
       "6    -11.5\n",
       "7    -12.8\n",
       "8    -12.8\n",
       "9    -11.1\n",
       "10   -10.2\n",
       "11   -10.4\n",
       "12   -16.0\n",
       "13   -11.6\n",
       "14   -12.6\n",
       "15   -14.2\n",
       "16   -12.9\n",
       "17   -12.9\n",
       "18   -12.0\n",
       "19   -11.2\n",
       "20   -12.8\n",
       "21   -13.1\n",
       "22   -13.1\n",
       "23   -12.7\n",
       "24   -12.8\n",
       "25   -10.3\n",
       "Name: Docking Score, dtype: float64"
      ]
     },
     "execution_count": 5,
     "metadata": {},
     "output_type": "execute_result"
    }
   ],
   "source": [
    "ds"
   ]
  },
  {
   "cell_type": "code",
   "execution_count": 16,
   "id": "540b26bb",
   "metadata": {
    "scrolled": false
   },
   "outputs": [
    {
     "data": {
      "image/png": "[encoded data removed]",
      "text/plain": [
       "<Figure size 720x720 with 1 Axes>"
      ]
     },
     "metadata": {},
     "output_type": "display_data"
    }
   ],
   "source": [
    "sns.set(style=\"whitegrid\", rc={\"figure.figsize\":(10, 10)})\n",
    "sns.despine()\n",
    "\n",
    "ax = sns.boxplot(data=ds, showfliers = False, width=0.2, boxprops={'facecolor': 'none'}, medianprops={'color': 'black'})\n",
    "ax = sns.swarmplot(data=ds, y=df[\"Docking Score\"], x=[\"\"]*len(df), hue=df[\"Ligand type\"], dodge=False, size=8)\n",
    "ax.set_ylim(-18, -10)\n",
    "ax.set_ylabel('Docking Score', fontsize=18)\n",
    "plt.show()"
   ]
  },
  {
   "cell_type": "code",
   "execution_count": null,
   "id": "ee8f4566",
   "metadata": {},
   "outputs": [],
   "source": []
  }
 ],
 "metadata": {
  "kernelspec": {
   "display_name": "Python 3 (ipykernel)",
   "language": "python",
   "name": "python3"
  },
  "language_info": {
   "codemirror_mode": {
    "name": "ipython",
    "version": 3
   },
   "file_extension": ".py",
   "mimetype": "text/x-python",
   "name": "python",
   "nbconvert_exporter": "python",
   "pygments_lexer": "ipython3",
   "version": "3.8.10"
  }
 },
 "nbformat": 4,
 "nbformat_minor": 5
}
