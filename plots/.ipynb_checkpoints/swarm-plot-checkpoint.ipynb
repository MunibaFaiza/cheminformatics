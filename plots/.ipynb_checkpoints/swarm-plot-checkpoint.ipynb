{
 "cells": [
  {
   "cell_type": "markdown",
   "id": "db50a70f",
   "metadata": {},
   "source": [
    "# Creating a boxplot for docking scores"
   ]
  },
  {
   "cell_type": "code",
   "execution_count": 1,
   "id": "6d9ed1d1",
   "metadata": {},
   "outputs": [],
   "source": [
    "import pandas as pd\n",
    "import matplotlib\n",
    "import matplotlib.pyplot as plt\n",
    "%matplotlib inline\n",
    "import seaborn as sns"
   ]
  },
  {
   "cell_type": "code",
   "execution_count": 5,
   "id": "b7a16c04",
   "metadata": {},
   "outputs": [
    {
     "data": {
      "text/html": [
       "<div>\n",
       "<style scoped>\n",
       "    .dataframe tbody tr th:only-of-type {\n",
       "        vertical-align: middle;\n",
       "    }\n",
       "\n",
       "    .dataframe tbody tr th {\n",
       "        vertical-align: top;\n",
       "    }\n",
       "\n",
       "    .dataframe thead th {\n",
       "        text-align: right;\n",
       "    }\n",
       "</style>\n",
       "<table border=\"1\" class=\"dataframe\">\n",
       "  <thead>\n",
       "    <tr style=\"text-align: right;\">\n",
       "      <th></th>\n",
       "      <th>PDB ID</th>\n",
       "      <th>Docking Score</th>\n",
       "      <th>Ligand type</th>\n",
       "    </tr>\n",
       "  </thead>\n",
       "  <tbody>\n",
       "    <tr>\n",
       "      <th>0</th>\n",
       "      <td>1rjk</td>\n",
       "      <td>-13.8</td>\n",
       "      <td>Secosteroid</td>\n",
       "    </tr>\n",
       "    <tr>\n",
       "      <th>1</th>\n",
       "      <td>1rk3</td>\n",
       "      <td>-13.1</td>\n",
       "      <td>Secosteroid</td>\n",
       "    </tr>\n",
       "    <tr>\n",
       "      <th>2</th>\n",
       "      <td>1rkg</td>\n",
       "      <td>-13.1</td>\n",
       "      <td>Secosteroid</td>\n",
       "    </tr>\n",
       "    <tr>\n",
       "      <th>3</th>\n",
       "      <td>1rkh</td>\n",
       "      <td>-13.3</td>\n",
       "      <td>Secosteroid</td>\n",
       "    </tr>\n",
       "    <tr>\n",
       "      <th>4</th>\n",
       "      <td>2o4j</td>\n",
       "      <td>-14.4</td>\n",
       "      <td>Secosteroid</td>\n",
       "    </tr>\n",
       "  </tbody>\n",
       "</table>\n",
       "</div>"
      ],
      "text/plain": [
       "  PDB ID  Docking Score  Ligand type\n",
       "0   1rjk          -13.8  Secosteroid\n",
       "1   1rk3          -13.1  Secosteroid\n",
       "2   1rkg          -13.1  Secosteroid\n",
       "3   1rkh          -13.3  Secosteroid\n",
       "4   2o4j          -14.4  Secosteroid"
      ]
     },
     "execution_count": 5,
     "metadata": {},
     "output_type": "execute_result"
    }
   ],
   "source": [
    "df = pd.read_csv('ligand-docking-score.csv')\n",
    "df.head()"
   ]
  },
  {
   "cell_type": "code",
   "execution_count": 6,
   "id": "8674d240",
   "metadata": {},
   "outputs": [],
   "source": [
    "names = df['PDB ID']\n",
    "# df['Docking Score'] = df['Docking Score'].astype(str)\n",
    "ds = df['Docking Score']\n",
    "lig_type = df['Ligand type']"
   ]
  },
  {
   "cell_type": "code",
   "execution_count": 7,
   "id": "b847d6cc",
   "metadata": {},
   "outputs": [
    {
     "data": {
      "text/plain": [
       "0     1rjk\n",
       "1     1rk3\n",
       "2     1rkg\n",
       "3     1rkh\n",
       "4     2o4j\n",
       "      ... \n",
       "65    5zwi\n",
       "66    6jez\n",
       "67    6k5o\n",
       "68    7c7v\n",
       "69    7c7w\n",
       "Name: PDB ID, Length: 70, dtype: object"
      ]
     },
     "execution_count": 7,
     "metadata": {},
     "output_type": "execute_result"
    }
   ],
   "source": [
    "names"
   ]
  },
  {
   "cell_type": "code",
   "execution_count": 8,
   "id": "4c00a7f5",
   "metadata": {},
   "outputs": [
    {
     "data": {
      "text/plain": [
       "0    -13.8\n",
       "1    -13.1\n",
       "2    -13.1\n",
       "3    -13.3\n",
       "4    -14.4\n",
       "      ... \n",
       "65   -13.1\n",
       "66   -13.0\n",
       "67   -12.1\n",
       "68   -12.5\n",
       "69   -12.8\n",
       "Name: Docking Score, Length: 70, dtype: float64"
      ]
     },
     "execution_count": 8,
     "metadata": {},
     "output_type": "execute_result"
    }
   ],
   "source": [
    "ds"
   ]
  },
  {
   "cell_type": "code",
   "execution_count": 23,
   "id": "540b26bb",
   "metadata": {
    "scrolled": false
   },
   "outputs": [
    {
     "data": {
      "image/png": "[encoded data removed]",
      "text/plain": [
       "<Figure size 720x720 with 1 Axes>"
      ]
     },
     "metadata": {},
     "output_type": "display_data"
    }
   ],
   "source": [
    "sns.set(style=\"whitegrid\", rc={\"figure.figsize\":(10, 10)})\n",
    "sns.despine()\n",
    "\n",
    "markers = [\"s\", \"D\", \"8\", \"p\"]\n",
    "colors = [\"r\", \"g\", \"b\", \"m\"]\n",
    "\n",
    "ax = sns.boxplot(data=ds, showfliers = False, width=0.2, boxprops={'facecolor': 'none'}, medianprops={'color': 'black'})\n",
    "ax = sns.swarmplot(data=ds, y=df[\"Docking Score\"], x=[\"\"]*len(df), hue=df[\"Ligand type\"], dodge=False, size=8)\n",
    "ax.set_ylim(-18, -10)\n",
    "# plt.ylim(18, 10)\n",
    "plt.show()"
   ]
  },
  {
   "cell_type": "code",
   "execution_count": null,
   "id": "ee8f4566",
   "metadata": {},
   "outputs": [],
   "source": []
  }
 ],
 "metadata": {
  "kernelspec": {
   "display_name": "Python 3 (ipykernel)",
   "language": "python",
   "name": "python3"
  },
  "language_info": {
   "codemirror_mode": {
    "name": "ipython",
    "version": 3
   },
   "file_extension": ".py",
   "mimetype": "text/x-python",
   "name": "python",
   "nbconvert_exporter": "python",
   "pygments_lexer": "ipython3",
   "version": "3.8.10"
  }
 },
 "nbformat": 4,
 "nbformat_minor": 5
}
