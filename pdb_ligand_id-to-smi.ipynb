{
 "cells": [
  {
   "cell_type": "code",
   "execution_count": 3,
   "id": "4949a939",
   "metadata": {},
   "outputs": [],
   "source": [
    "import csv, sys\n",
    "import os\n",
    "import os.path\n",
    "from pandas import *\n",
    "from rdkit import Chem\n",
    "import pandas as pd"
   ]
  },
  {
   "cell_type": "code",
   "execution_count": 4,
   "id": "fe01534a",
   "metadata": {},
   "outputs": [],
   "source": [
    "df = pd.read_csv('lig-ids.csv', sep=',')"
   ]
  },
  {
   "cell_type": "code",
   "execution_count": 5,
   "id": "eaad283b",
   "metadata": {},
   "outputs": [
    {
     "data": {
      "text/html": [
       "<div>\n",
       "<style scoped>\n",
       "    .dataframe tbody tr th:only-of-type {\n",
       "        vertical-align: middle;\n",
       "    }\n",
       "\n",
       "    .dataframe tbody tr th {\n",
       "        vertical-align: top;\n",
       "    }\n",
       "\n",
       "    .dataframe thead th {\n",
       "        text-align: right;\n",
       "    }\n",
       "</style>\n",
       "<table border=\"1\" class=\"dataframe\">\n",
       "  <thead>\n",
       "    <tr style=\"text-align: right;\">\n",
       "      <th></th>\n",
       "      <th>Ligand ID</th>\n",
       "    </tr>\n",
       "  </thead>\n",
       "  <tbody>\n",
       "    <tr>\n",
       "      <th>0</th>\n",
       "      <td>198</td>\n",
       "    </tr>\n",
       "    <tr>\n",
       "      <th>1</th>\n",
       "      <td>EHF</td>\n",
       "    </tr>\n",
       "    <tr>\n",
       "      <th>2</th>\n",
       "      <td>HSA</td>\n",
       "    </tr>\n",
       "    <tr>\n",
       "      <th>3</th>\n",
       "      <td>VDX</td>\n",
       "    </tr>\n",
       "    <tr>\n",
       "      <th>4</th>\n",
       "      <td>DM5</td>\n",
       "    </tr>\n",
       "    <tr>\n",
       "      <th>5</th>\n",
       "      <td>9TP</td>\n",
       "    </tr>\n",
       "    <tr>\n",
       "      <th>6</th>\n",
       "      <td>YR3</td>\n",
       "    </tr>\n",
       "    <tr>\n",
       "      <th>7</th>\n",
       "      <td>EVP</td>\n",
       "    </tr>\n",
       "    <tr>\n",
       "      <th>8</th>\n",
       "      <td>MYR</td>\n",
       "    </tr>\n",
       "  </tbody>\n",
       "</table>\n",
       "</div>"
      ],
      "text/plain": [
       "  Ligand ID\n",
       "0       198\n",
       "1       EHF\n",
       "2       HSA\n",
       "3       VDX\n",
       "4       DM5\n",
       "5       9TP\n",
       "6       YR3\n",
       "7       EVP\n",
       "8       MYR"
      ]
     },
     "execution_count": 5,
     "metadata": {},
     "output_type": "execute_result"
    }
   ],
   "source": [
    "df"
   ]
  },
  {
   "cell_type": "code",
   "execution_count": 6,
   "id": "2f94eb8a",
   "metadata": {},
   "outputs": [],
   "source": [
    "lig_dir = \"ligands-sdf\"\n",
    "\n",
    "ligand_id_file = pd.read_csv(\"lig-ids.csv\")"
   ]
  },
  {
   "cell_type": "code",
   "execution_count": 7,
   "id": "4e746142",
   "metadata": {},
   "outputs": [
    {
     "name": "stdout",
     "output_type": "stream",
     "text": [
      "['198', 'EHF', 'HSA', 'VDX', 'DM5', '9TP', 'YR3', 'EVP', 'MYR']\n"
     ]
    }
   ],
   "source": [
    "lig_ids = ligand_id_file['Ligand ID'].to_list()\n",
    "\n",
    "print(lig_ids)"
   ]
  },
  {
   "cell_type": "code",
   "execution_count": 9,
   "id": "50e02e17",
   "metadata": {},
   "outputs": [],
   "source": [
    "#making and changing to ligands-sdf directory\n",
    "os.mkdir(lig_dir)\n",
    "os.chdir(lig_dir)"
   ]
  },
  {
   "cell_type": "code",
   "execution_count": 10,
   "id": "2bf83baf",
   "metadata": {
    "scrolled": true
   },
   "outputs": [
    {
     "name": "stderr",
     "output_type": "stream",
     "text": [
      "--2022-11-19 23:54:59--  https://files.rcsb.org/ligands/download/198_ideal.sdf\n",
      "Resolving files.rcsb.org (files.rcsb.org)... 132.249.213.110\n",
      "Connecting to files.rcsb.org (files.rcsb.org)|132.249.213.110|:443... connected.\n",
      "HTTP request sent, awaiting response... 200 OK\n",
      "Length: 4386 (4,3K) [application/octet-stream]\n",
      "Saving to: ‘198_ideal.sdf’\n",
      "\n",
      "     0K ....                                                  100% 2,29M=0,002s\n",
      "\n",
      "2022-11-19 23:55:01 (2,29 MB/s) - ‘198_ideal.sdf’ saved [4386/4386]\n",
      "\n",
      "--2022-11-19 23:55:01--  https://files.rcsb.org/ligands/download/EHF_ideal.sdf\n",
      "Resolving files.rcsb.org (files.rcsb.org)... 132.249.213.110\n",
      "Connecting to files.rcsb.org (files.rcsb.org)|132.249.213.110|:443... "
     ]
    },
    {
     "name": "stdout",
     "output_type": "stream",
     "text": [
      "0\n"
     ]
    },
    {
     "name": "stderr",
     "output_type": "stream",
     "text": [
      "connected.\n",
      "HTTP request sent, awaiting response... 200 OK\n",
      "Length: 4606 (4,5K) [application/octet-stream]\n",
      "Saving to: ‘EHF_ideal.sdf’\n",
      "\n",
      "     0K ....                                                  100% 1,40M=0,003s\n",
      "\n",
      "2022-11-19 23:55:02 (1,40 MB/s) - ‘EHF_ideal.sdf’ saved [4606/4606]\n",
      "\n",
      "--2022-11-19 23:55:02--  https://files.rcsb.org/ligands/download/HSA_ideal.sdf\n",
      "Resolving files.rcsb.org (files.rcsb.org)... 132.249.213.110\n",
      "Connecting to files.rcsb.org (files.rcsb.org)|132.249.213.110|:443... "
     ]
    },
    {
     "name": "stdout",
     "output_type": "stream",
     "text": [
      "0\n"
     ]
    },
    {
     "name": "stderr",
     "output_type": "stream",
     "text": [
      "connected.\n",
      "HTTP request sent, awaiting response... 200 OK\n",
      "Length: 2726 (2,7K) [application/octet-stream]\n",
      "Saving to: ‘HSA_ideal.sdf’\n",
      "\n",
      "     0K ..                                                    100% 3,81M=0,001s\n",
      "\n",
      "2022-11-19 23:55:03 (3,81 MB/s) - ‘HSA_ideal.sdf’ saved [2726/2726]\n",
      "\n",
      "--2022-11-19 23:55:04--  https://files.rcsb.org/ligands/download/VDX_ideal.sdf\n",
      "Resolving files.rcsb.org (files.rcsb.org)... 132.249.213.110\n",
      "Connecting to files.rcsb.org (files.rcsb.org)|132.249.213.110|:443... "
     ]
    },
    {
     "name": "stdout",
     "output_type": "stream",
     "text": [
      "0\n"
     ]
    },
    {
     "name": "stderr",
     "output_type": "stream",
     "text": [
      "connected.\n",
      "HTTP request sent, awaiting response... 200 OK\n",
      "Length: 7330 (7,2K) [application/octet-stream]\n",
      "Saving to: ‘VDX_ideal.sdf’\n",
      "\n",
      "     0K .......                                               100% 25,2M=0s\n",
      "\n",
      "2022-11-19 23:55:05 (25,2 MB/s) - ‘VDX_ideal.sdf’ saved [7330/7330]\n",
      "\n",
      "--2022-11-19 23:55:05--  https://files.rcsb.org/ligands/download/DM5_ideal.sdf\n",
      "Resolving files.rcsb.org (files.rcsb.org)... 132.249.213.110\n",
      "Connecting to files.rcsb.org (files.rcsb.org)|132.249.213.110|:443... "
     ]
    },
    {
     "name": "stdout",
     "output_type": "stream",
     "text": [
      "0\n"
     ]
    },
    {
     "name": "stderr",
     "output_type": "stream",
     "text": [
      "connected.\n",
      "HTTP request sent, awaiting response... 200 OK\n",
      "Length: 6380 (6,2K) [application/octet-stream]\n",
      "Saving to: ‘DM5_ideal.sdf’\n",
      "\n",
      "     0K ......                                                100% 22,1M=0s\n",
      "\n",
      "2022-11-19 23:55:06 (22,1 MB/s) - ‘DM5_ideal.sdf’ saved [6380/6380]\n",
      "\n",
      "--2022-11-19 23:55:06--  https://files.rcsb.org/ligands/download/9TP_ideal.sdf\n",
      "Resolving files.rcsb.org (files.rcsb.org)... 132.249.213.110\n",
      "Connecting to files.rcsb.org (files.rcsb.org)|132.249.213.110|:443... "
     ]
    },
    {
     "name": "stdout",
     "output_type": "stream",
     "text": [
      "0\n"
     ]
    },
    {
     "name": "stderr",
     "output_type": "stream",
     "text": [
      "connected.\n",
      "HTTP request sent, awaiting response... 200 OK\n",
      "Length: 7918 (7,7K) [application/octet-stream]\n",
      "Saving to: ‘9TP_ideal.sdf’\n",
      "\n",
      "     0K .......                                               100% 1,54M=0,005s\n",
      "\n",
      "2022-11-19 23:55:07 (1,54 MB/s) - ‘9TP_ideal.sdf’ saved [7918/7918]\n",
      "\n",
      "--2022-11-19 23:55:07--  https://files.rcsb.org/ligands/download/YR3_ideal.sdf\n",
      "Resolving files.rcsb.org (files.rcsb.org)... 132.249.213.110\n",
      "Connecting to files.rcsb.org (files.rcsb.org)|132.249.213.110|:443... "
     ]
    },
    {
     "name": "stdout",
     "output_type": "stream",
     "text": [
      "0\n"
     ]
    },
    {
     "name": "stderr",
     "output_type": "stream",
     "text": [
      "connected.\n",
      "HTTP request sent, awaiting response... 200 OK\n",
      "Length: 7352 (7,2K) [application/octet-stream]\n",
      "Saving to: ‘YR3_ideal.sdf’\n",
      "\n",
      "     0K .......                                               100% 2,76M=0,003s\n",
      "\n",
      "2022-11-19 23:55:08 (2,76 MB/s) - ‘YR3_ideal.sdf’ saved [7352/7352]\n",
      "\n",
      "--2022-11-19 23:55:08--  https://files.rcsb.org/ligands/download/EVP_ideal.sdf\n",
      "Resolving files.rcsb.org (files.rcsb.org)... 132.249.213.110\n",
      "Connecting to files.rcsb.org (files.rcsb.org)|132.249.213.110|:443... "
     ]
    },
    {
     "name": "stdout",
     "output_type": "stream",
     "text": [
      "0\n"
     ]
    },
    {
     "name": "stderr",
     "output_type": "stream",
     "text": [
      "connected.\n",
      "HTTP request sent, awaiting response... 200 OK\n",
      "Length: 7508 (7,3K) [application/octet-stream]\n",
      "Saving to: ‘EVP_ideal.sdf’\n",
      "\n",
      "     0K .......                                               100% 2,41M=0,003s\n",
      "\n",
      "2022-11-19 23:55:10 (2,41 MB/s) - ‘EVP_ideal.sdf’ saved [7508/7508]\n",
      "\n",
      "--2022-11-19 23:55:10--  https://files.rcsb.org/ligands/download/MYR_ideal.sdf\n",
      "Resolving files.rcsb.org (files.rcsb.org)... 132.249.213.110\n",
      "Connecting to files.rcsb.org (files.rcsb.org)|132.249.213.110|:443... "
     ]
    },
    {
     "name": "stdout",
     "output_type": "stream",
     "text": [
      "0\n"
     ]
    },
    {
     "name": "stderr",
     "output_type": "stream",
     "text": [
      "connected.\n",
      "HTTP request sent, awaiting response... "
     ]
    },
    {
     "name": "stdout",
     "output_type": "stream",
     "text": [
      "0\n"
     ]
    },
    {
     "name": "stderr",
     "output_type": "stream",
     "text": [
      "200 OK\n",
      "Length: 4321 (4,2K) [application/octet-stream]\n",
      "Saving to: ‘MYR_ideal.sdf’\n",
      "\n",
      "     0K ....                                                  100% 2,53M=0,002s\n",
      "\n",
      "2022-11-19 23:55:11 (2,53 MB/s) - ‘MYR_ideal.sdf’ saved [4321/4321]\n",
      "\n"
     ]
    }
   ],
   "source": [
    "#downloading sdf structures\n",
    "\n",
    "for id in lig_ids:\n",
    "    cmd = os.system(\"wget \"+\" \"+\"https://files.rcsb.org/ligands/download/\"+id+\"_ideal.sdf\")\n",
    "    print(cmd)\n"
   ]
  },
  {
   "cell_type": "code",
   "execution_count": 11,
   "id": "e0ec2f44",
   "metadata": {},
   "outputs": [],
   "source": [
    "# Joining all ligand files into a single SDF file\n",
    "\n",
    "join_cmd = os.system(\"cat *.sdf > ligands.sdf\")\n",
    "joined_ligands = \"ligands.sdf\""
   ]
  },
  {
   "cell_type": "code",
   "execution_count": 12,
   "id": "ca71891a",
   "metadata": {},
   "outputs": [
    {
     "name": "stdout",
     "output_type": "stream",
     "text": [
      "Generated SMILES are present in smiles.txt file\n"
     ]
    }
   ],
   "source": [
    "# converting SDF to SMILES using RDKit\n",
    "\n",
    "def converter(file_name):\n",
    "    sdf_file = Chem.SDMolSupplier(file_name)\n",
    "    \n",
    "    out_file = open('smiles.txt', \"w\")\n",
    "    for mol in sdf_file:\n",
    "        if mol is not None:             # avoiding compounds that cannot be loaded.\n",
    "            smi = Chem.MolToSmiles(mol)\n",
    "            out_file.write(f\"{smi}\\n\")\n",
    "    out_file.close()\n",
    "if __name__ == \"__main__\":\n",
    "    converter(joined_ligands)\n",
    "    print(\"Generated SMILES are present in smiles.txt file\")"
   ]
  },
  {
   "cell_type": "code",
   "execution_count": null,
   "id": "4153016c",
   "metadata": {},
   "outputs": [],
   "source": []
  }
 ],
 "metadata": {
  "kernelspec": {
   "display_name": "Python 3 (ipykernel)",
   "language": "python",
   "name": "python3"
  },
  "language_info": {
   "codemirror_mode": {
    "name": "ipython",
    "version": 3
   },
   "file_extension": ".py",
   "mimetype": "text/x-python",
   "name": "python",
   "nbconvert_exporter": "python",
   "pygments_lexer": "ipython3",
   "version": "3.8.10"
  }
 },
 "nbformat": 4,
 "nbformat_minor": 5
}
